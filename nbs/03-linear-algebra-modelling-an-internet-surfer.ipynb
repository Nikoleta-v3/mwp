{
 "cells": [
  {
   "cell_type": "markdown",
   "metadata": {},
   "source": [
    "# Understanding behaviour on the internet\n",
    "\n",
    "Let us assume we have a \"small\" internet with 6 sites, we know the proportion of traffic from each site to any other site.\n",
    "\n",
    "TODO Draw picture\n",
    "\n",
    "We can capture this mathematically using a matrix:\n",
    "\n",
    "$$\n",
    "M = \n",
    "\\begin{pmatrix}\n",
    "1 / 7 & 0     & 0     & 2 / 7 & 2 / 7 & 2 / 7 \\\\\n",
    "1     & 0     & 0     & 0     & 0     & 0     \\\\\n",
    "1/2   & 1 / 4 & 1 / 4 & 0     & 0     & 0     \\\\\n",
    "0     & 1 / 4 & 1 / 2 & 1 / 4 & 0     & 0     \\\\\n",
    "0     & 0     & 1 / 3 & 1 / 3 & 1 / 3 & 0     \\\\\n",
    "0     & 0     & 0     & 1 / 3 & 1 / 3 & 1 / 3 \\\\\n",
    "\\end{pmatrix}\n",
    "$$\n",
    "\n",
    "We can use `numpy` to manipulate this matrix efficiently:"
   ]
  },
  {
   "cell_type": "code",
   "execution_count": 1,
   "metadata": {},
   "outputs": [
    {
     "data": {
      "text/plain": [
       "array([[ 0.14,  0.  ,  0.  ,  0.29,  0.29,  0.29],\n",
       "       [ 1.  ,  0.  ,  0.  ,  0.  ,  0.  ,  0.  ],\n",
       "       [ 0.5 ,  0.25,  0.25,  0.  ,  0.  ,  0.  ],\n",
       "       [ 0.  ,  0.25,  0.5 ,  0.25,  0.  ,  0.  ],\n",
       "       [ 0.  ,  0.  ,  0.33,  0.33,  0.33,  0.  ],\n",
       "       [ 0.  ,  0.  ,  0.  ,  0.33,  0.33,  0.33]])"
      ]
     },
     "execution_count": 1,
     "metadata": {},
     "output_type": "execute_result"
    }
   ],
   "source": [
    "import numpy as np\n",
    "M = np.array([[1 / 7, 0, 0, 2 / 7, 2 / 7, 2 / 7],\n",
    "              [1, 0, 0, 0, 0, 0],\n",
    "              [1 / 2, 1 / 4, 1 / 4, 0, 0, 0],\n",
    "              [0, 1 / 4, 1 / 2, 1 / 4, 0, 0],\n",
    "              [0, 0, 1 / 3, 1 / 3, 1 / 3, 0],\n",
    "              [0, 0, 0, 1 / 3, 1 / 3, 1 / 3]])\n",
    "M.round(2)"
   ]
  },
  {
   "cell_type": "markdown",
   "metadata": {},
   "source": [
    "### Exercises\n",
    "\n",
    "- Define $\\begin{pmatrix}0&1/2&1/2\\\\1/2&0&1/2\\\\0&1/2&1/2\\end{pmatrix}$ as a `numpy` array."
   ]
  },
  {
   "cell_type": "markdown",
   "metadata": {},
   "source": [
    "# Probability after 2 clicks\n",
    "\n",
    "We can investigate the probability of going from one page to another in 2 clicks by raising our matrix to a power:\n",
    "\n",
    "$$M^2 = M \\times M$$\n",
    "\n",
    "Since python 3.6 we can use the `@` operator for matrix multiplication:"
   ]
  },
  {
   "cell_type": "code",
   "execution_count": 2,
   "metadata": {},
   "outputs": [
    {
     "data": {
      "text/plain": [
       "array([[ 0.02,  0.07,  0.24,  0.3 ,  0.23,  0.14],\n",
       "       [ 0.14,  0.  ,  0.  ,  0.29,  0.29,  0.29],\n",
       "       [ 0.45,  0.06,  0.06,  0.14,  0.14,  0.14],\n",
       "       [ 0.5 ,  0.19,  0.25,  0.06,  0.  ,  0.  ],\n",
       "       [ 0.17,  0.17,  0.36,  0.19,  0.11,  0.  ],\n",
       "       [ 0.  ,  0.08,  0.28,  0.31,  0.22,  0.11]])"
      ]
     },
     "execution_count": 2,
     "metadata": {},
     "output_type": "execute_result"
    }
   ],
   "source": [
    "(M @ M).round(2)"
   ]
  },
  {
   "cell_type": "markdown",
   "metadata": {},
   "source": [
    "We can also use `np.linalg.matrix_power`:"
   ]
  },
  {
   "cell_type": "code",
   "execution_count": 3,
   "metadata": {},
   "outputs": [
    {
     "data": {
      "text/plain": [
       "array([[ 0.02,  0.07,  0.24,  0.3 ,  0.23,  0.14],\n",
       "       [ 0.14,  0.  ,  0.  ,  0.29,  0.29,  0.29],\n",
       "       [ 0.45,  0.06,  0.06,  0.14,  0.14,  0.14],\n",
       "       [ 0.5 ,  0.19,  0.25,  0.06,  0.  ,  0.  ],\n",
       "       [ 0.17,  0.17,  0.36,  0.19,  0.11,  0.  ],\n",
       "       [ 0.  ,  0.08,  0.28,  0.31,  0.22,  0.11]])"
      ]
     },
     "execution_count": 3,
     "metadata": {},
     "output_type": "execute_result"
    }
   ],
   "source": [
    "(np.linalg.matrix_power(M, 2)).round(2)"
   ]
  },
  {
   "cell_type": "markdown",
   "metadata": {},
   "source": [
    "# Probability after many clicks\n",
    "\n",
    "\n",
    "We can see what happens after a large number of clicks by raising $M$ to higher powers:"
   ]
  },
  {
   "cell_type": "code",
   "execution_count": 4,
   "metadata": {},
   "outputs": [
    {
     "data": {
      "text/plain": [
       "array([[ 0.28,  0.1 ,  0.18,  0.19,  0.15,  0.11],\n",
       "       [ 0.31,  0.12,  0.22,  0.17,  0.12,  0.07],\n",
       "       [ 0.24,  0.12,  0.24,  0.19,  0.13,  0.07],\n",
       "       [ 0.16,  0.1 ,  0.23,  0.23,  0.17,  0.1 ],\n",
       "       [ 0.21,  0.08,  0.18,  0.22,  0.18,  0.13],\n",
       "       [ 0.27,  0.09,  0.17,  0.2 ,  0.16,  0.12]])"
      ]
     },
     "execution_count": 4,
     "metadata": {},
     "output_type": "execute_result"
    }
   ],
   "source": [
    "(np.linalg.matrix_power(M, 5)).round(2)"
   ]
  },
  {
   "cell_type": "code",
   "execution_count": 5,
   "metadata": {},
   "outputs": [
    {
     "data": {
      "text/plain": [
       "array([[ 0.24,  0.1 ,  0.2 ,  0.2 ,  0.15,  0.1 ],\n",
       "       [ 0.24,  0.1 ,  0.2 ,  0.2 ,  0.15,  0.1 ],\n",
       "       [ 0.24,  0.1 ,  0.21,  0.2 ,  0.15,  0.1 ],\n",
       "       [ 0.23,  0.1 ,  0.21,  0.21,  0.15,  0.1 ],\n",
       "       [ 0.23,  0.1 ,  0.2 ,  0.21,  0.15,  0.1 ],\n",
       "       [ 0.24,  0.1 ,  0.2 ,  0.2 ,  0.15,  0.1 ]])"
      ]
     },
     "execution_count": 5,
     "metadata": {},
     "output_type": "execute_result"
    }
   ],
   "source": [
    "(np.linalg.matrix_power(M, 10)).round(2).round(2)"
   ]
  },
  {
   "cell_type": "code",
   "execution_count": 6,
   "metadata": {},
   "outputs": [
    {
     "data": {
      "text/plain": [
       "array([[ 0.24,  0.1 ,  0.2 ,  0.2 ,  0.15,  0.1 ],\n",
       "       [ 0.24,  0.1 ,  0.2 ,  0.2 ,  0.15,  0.1 ],\n",
       "       [ 0.24,  0.1 ,  0.2 ,  0.2 ,  0.15,  0.1 ],\n",
       "       [ 0.24,  0.1 ,  0.2 ,  0.2 ,  0.15,  0.1 ],\n",
       "       [ 0.24,  0.1 ,  0.2 ,  0.2 ,  0.15,  0.1 ],\n",
       "       [ 0.24,  0.1 ,  0.2 ,  0.2 ,  0.15,  0.1 ]])"
      ]
     },
     "execution_count": 6,
     "metadata": {},
     "output_type": "execute_result"
    }
   ],
   "source": [
    "(np.linalg.matrix_power(M, 50)).round(2).round(2)"
   ]
  },
  {
   "cell_type": "markdown",
   "metadata": {},
   "source": [
    "We see that after a large number of clicks we have a stabilised probability of arriving at any other page. This is referred to as the **steady state** of the Markov chain.\n",
    "\n",
    "### Exercises\n",
    "\n",
    "- Compute $\\begin{pmatrix}0&1/2&1/2\\\\1/2&0&1/2\\\\0&1/2&1/2\\end{pmatrix}^2$\n",
    "- Compute $\\begin{pmatrix}0&1/2&1/2\\\\1/2&0&1/2\\\\0&1/2&1/2\\end{pmatrix}^{200}$"
   ]
  },
  {
   "cell_type": "markdown",
   "metadata": {},
   "source": [
    "## Visualising the progress of the Markov chain\n",
    "\n",
    "We can capture an initial state of the chain with a probability vector $\\pi$. For example the following represents that we are in the first state (first page):\n",
    "\n",
    "$$\n",
    "\\pi = (1, 0, 0, 0, 0, 0)\n",
    "$$\n",
    "\n",
    "then $\\pi M$ gives us the probability of where we are in the next stage (after 1 click). Thus, $\\pi M ^ k$ gives us the probability vector after $k$ clicks.\n",
    "\n",
    "We can capture this in `numpy`:"
   ]
  },
  {
   "cell_type": "code",
   "execution_count": 7,
   "metadata": {},
   "outputs": [],
   "source": [
    "pi = np.array([1, 0, 0, 0, 0, 0])\n",
    "states = []\n",
    "for k in range(20):\n",
    "    pi = pi @ M\n",
    "    states.append(pi)"
   ]
  },
  {
   "cell_type": "code",
   "execution_count": 8,
   "metadata": {},
   "outputs": [
    {
     "data": {
      "image/png": "[encoded data removed]",
      "text/plain": [
       "<matplotlib.figure.Figure at 0x7f10fb7a1828>"
      ]
     },
     "metadata": {},
     "output_type": "display_data"
    }
   ],
   "source": [
    "import matplotlib.pyplot as plt\n",
    "%matplotlib inline\n",
    "plt.plot(states);"
   ]
  },
  {
   "cell_type": "markdown",
   "metadata": {},
   "source": [
    "We see that the Markov chain arrivaes at a steady state pretty quickly (about 10 clicks).\n",
    "\n",
    "## Using eigenvalues to compute the probability directly\n",
    "\n",
    "It is possible to directly find the steady state probaiblities by solving the following equation:\n",
    "\n",
    "$$\\pi M = \\pi$$\n",
    "\n",
    "This in fact corresponds to finding something called the unit eigenvector.\n",
    "\n",
    "For a general matrix $M$ a **right** eigenvalue $\\lambda$ and corresponding eigenvector $v$ are solutions to the following equation:\n",
    "\n",
    "$$M  v= \\lambda v$$\n",
    "\n",
    "a **left** eigenvalue $\\lambda$ and corresponding eigenvector $v$ are solutions to the following equation:\n",
    "\n",
    "$v M = \\lambda v$\n",
    "\n",
    "Thus, our steady state probabilities correspond to the eigenvalue $1$ and can be done with `numpy`:"
   ]
  },
  {
   "cell_type": "code",
   "execution_count": 18,
   "metadata": {},
   "outputs": [],
   "source": [
    "def obtain_steady_state(M):\n",
    "    \"\"\"\n",
    "    Compute the steady state of a Markov chain\n",
    "    \"\"\"\n",
    "    v, w = np.linalg.eig(M.transpose())  # This computes the left eigen-values/vectors of M\n",
    "    return np.real(w[:, 0] / sum(w[:, 0]))"
   ]
  },
  {
   "cell_type": "code",
   "execution_count": 19,
   "metadata": {},
   "outputs": [
    {
     "data": {
      "text/plain": [
       "array([ 0.23728814,  0.10169492,  0.20338983,  0.20338983,  0.15254237,\n",
       "        0.10169492])"
      ]
     },
     "execution_count": 19,
     "metadata": {},
     "output_type": "execute_result"
    }
   ],
   "source": [
    "obtain_steady_state(M)"
   ]
  },
  {
   "cell_type": "markdown",
   "metadata": {},
   "source": [
    "### Exercises\n",
    "\n",
    "- Compute the left eigen-values/vectors of $\\begin{pmatrix}0&1/2&1/2\\\\1/2&0&1/2\\\\0&1/2&1/2\\end{pmatrix}$\n",
    "- Compute the right eigen-values/vectors of $\\begin{pmatrix}0&1/2&1/2\\\\1/2&0&1/2\\\\0&1/2&1/2\\end{pmatrix}$"
   ]
  },
  {
   "cell_type": "markdown",
   "metadata": {},
   "source": [
    "## Increasing probability of going to a given page\n",
    "\n",
    "We see that 10% of the time will be spent on the last page, let us see how we can increase that by considering the following matrix:\n",
    "\n",
    "$$\n",
    "M(x) = \n",
    "\\begin{pmatrix}\n",
    "1 / 7 & 0     & 0     & 2 / 7 - x / 2 & 2 / 7 - x / 2 & 2 / 7 + x \\\\\n",
    "1     & 0     & 0     & 0     & 0     & 0     \\\\\n",
    "1/2   & 1 / 4 & 1 / 4 & 0     & 0     & 0     \\\\\n",
    "0     & 1 / 4 & 1 / 2 & 1 / 4 & 0     & 0     \\\\\n",
    "0     & 0     & 1 / 3 & 1 / 3 & 1 / 3 & 0     \\\\\n",
    "0     & 0     & 0     & 1 / 3 & 1 / 3 & 1 / 3 \\\\\n",
    "\\end{pmatrix}\n",
    "$$\n",
    "\n",
    "So this could correspond to an attempt to increase traffic from the first page to the last page."
   ]
  },
  {
   "cell_type": "code",
   "execution_count": 20,
   "metadata": {},
   "outputs": [],
   "source": [
    "def get_modified_chain(x, M=M):\n",
    "    new_M = np.copy(M)\n",
    "    new_M[0, -1] += x\n",
    "    new_M[0, -2] -= x / 2\n",
    "    new_M[0, -3] -= x / 2\n",
    "    return new_M"
   ]
  },
  {
   "cell_type": "code",
   "execution_count": 21,
   "metadata": {},
   "outputs": [
    {
     "data": {
      "text/plain": [
       "array([[ 0.14,  0.  ,  0.  ,  0.29,  0.29,  0.29],\n",
       "       [ 1.  ,  0.  ,  0.  ,  0.  ,  0.  ,  0.  ],\n",
       "       [ 0.5 ,  0.25,  0.25,  0.  ,  0.  ,  0.  ],\n",
       "       [ 0.  ,  0.25,  0.5 ,  0.25,  0.  ,  0.  ],\n",
       "       [ 0.  ,  0.  ,  0.33,  0.33,  0.33,  0.  ],\n",
       "       [ 0.  ,  0.  ,  0.  ,  0.33,  0.33,  0.33]])"
      ]
     },
     "execution_count": 21,
     "metadata": {},
     "output_type": "execute_result"
    }
   ],
   "source": [
    "get_modified_chain(0).round(2)"
   ]
  },
  {
   "cell_type": "code",
   "execution_count": 22,
   "metadata": {},
   "outputs": [
    {
     "data": {
      "text/plain": [
       "array([[ 0.14,  0.  ,  0.  ,  0.24,  0.24,  0.39],\n",
       "       [ 1.  ,  0.  ,  0.  ,  0.  ,  0.  ,  0.  ],\n",
       "       [ 0.5 ,  0.25,  0.25,  0.  ,  0.  ,  0.  ],\n",
       "       [ 0.  ,  0.25,  0.5 ,  0.25,  0.  ,  0.  ],\n",
       "       [ 0.  ,  0.  ,  0.33,  0.33,  0.33,  0.  ],\n",
       "       [ 0.  ,  0.  ,  0.  ,  0.33,  0.33,  0.33]])"
      ]
     },
     "execution_count": 22,
     "metadata": {},
     "output_type": "execute_result"
    }
   ],
   "source": [
    "get_modified_chain(.1).round(2)"
   ]
  },
  {
   "cell_type": "markdown",
   "metadata": {},
   "source": [
    "We can now see how changing this probability affect the chance of being on the last page:"
   ]
  },
  {
   "cell_type": "code",
   "execution_count": 23,
   "metadata": {},
   "outputs": [
    {
     "data": {
      "image/png": "[encoded data removed]",
      "text/plain": [
       "<matplotlib.figure.Figure at 0x7f10dec4fef0>"
      ]
     },
     "metadata": {},
     "output_type": "display_data"
    }
   ],
   "source": [
    "xs =  np.linspace(0, 4/7, 100) \n",
    "ys = [obtain_steady_state(get_modified_chain(x))[-1] for x in xs]\n",
    "plt.plot(xs, ys);"
   ]
  },
  {
   "cell_type": "markdown",
   "metadata": {},
   "source": [
    "We see that it's that the maximum value we can hope to achieve is 26%.\n",
    "\n",
    "## Calculating expected sales\n",
    "\n",
    "Let us assume that we know the average sales figures for each visit to a given page:\n",
    "\n",
    "$$\n",
    "s = (10, 2, 100, 84, 35, 50)\n",
    "$$\n",
    "\n",
    "we can compute the expected total sales using our probability vector."
   ]
  },
  {
   "cell_type": "code",
   "execution_count": 24,
   "metadata": {},
   "outputs": [
    {
     "data": {
      "text/plain": [
       "50.423348896884441"
      ]
     },
     "execution_count": 24,
     "metadata": {},
     "output_type": "execute_result"
    }
   ],
   "source": [
    "s = np.array([10, 2, 100, 84, 35, 50])\n",
    "sum(s * pi)"
   ]
  },
  {
   "cell_type": "code",
   "execution_count": 25,
   "metadata": {},
   "outputs": [],
   "source": [
    "def expected_sales(x, M=M, s=s):\n",
    "    return sum(s * obtain_steady_state(get_modified_chain(x, M=M)))"
   ]
  },
  {
   "cell_type": "code",
   "execution_count": 26,
   "metadata": {},
   "outputs": [
    {
     "data": {
      "image/png": "[encoded data removed]",
      "text/plain": [
       "<matplotlib.figure.Figure at 0x7f10debb4b70>"
      ]
     },
     "metadata": {},
     "output_type": "display_data"
    }
   ],
   "source": [
    "plt.plot(xs, [expected_sales(x) for x in xs]);"
   ]
  },
  {
   "cell_type": "markdown",
   "metadata": {},
   "source": [
    "We see that rerouting our traffic would give us a very small loss in sales."
   ]
  }
 ],
 "metadata": {
  "anaconda-cloud": {},
  "kernelspec": {
   "display_name": "Python [conda root]",
   "language": "python",
   "name": "conda-root-py"
  },
  "language_info": {
   "codemirror_mode": {
    "name": "ipython",
    "version": 3
   },
   "file_extension": ".py",
   "mimetype": "text/x-python",
   "name": "python",
   "nbconvert_exporter": "python",
   "pygments_lexer": "ipython3",
   "version": "3.5.2"
  }
 },
 "nbformat": 4,
 "nbformat_minor": 2
}
