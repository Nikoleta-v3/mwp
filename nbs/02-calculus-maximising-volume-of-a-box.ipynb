{
 "cells": [
  {
   "cell_type": "markdown",
   "metadata": {},
   "source": [
    "# Maximising the volume of a box\n",
    "\n",
    "Let us consider a sheet of metal of dimensions $l\\times L$\n",
    "\n",
    "TODO: Draw picture\n",
    "\n",
    "We can cut in to the sheet of metal a distance $x$ to create folds.\n",
    "\n",
    "TODO: Draw picture\n",
    "\n",
    "The volume of a box with these folds will be given by:\n",
    "\n",
    "$V(x) = (l - 2x)\\times (L-2x) \\times x$\n",
    "\n",
    "In this notebook we will use calculus (the study of continuous change) and `sympy` to identify the size of the cut to give the biggest volume."
   ]
  },
  {
   "cell_type": "markdown",
   "metadata": {},
   "source": [
    "## Defining a function\n",
    "\n",
    "To help with writing our code, we will start by defining a python function for our volume."
   ]
  },
  {
   "cell_type": "code",
   "execution_count": 1,
   "metadata": {},
   "outputs": [],
   "source": [
    "import sympy as sym\n",
    "sym.init_printing()\n",
    "x, l, L = sym.symbols(\"x, l, L\")\n",
    "\n",
    "def V(x=x, l=l, L=L):\n",
    "    \"\"\"\n",
    "    Return the volume of a box as described.\n",
    "    \"\"\"\n",
    "    return (l - 2 * x) * (L - 2 * x) * x"
   ]
  },
  {
   "cell_type": "code",
   "execution_count": 2,
   "metadata": {},
   "outputs": [
    {
     "data": {
      "image/png": "[encoded data removed]",
      "text/latex": [
       "$$x \\left(L - 2 x\\right) \\left(l - 2 x\\right)$$"
      ],
      "text/plain": [
       "x⋅(L - 2⋅x)⋅(l - 2⋅x)"
      ]
     },
     "execution_count": 2,
     "metadata": {},
     "output_type": "execute_result"
    }
   ],
   "source": [
    "V()"
   ]
  },
  {
   "cell_type": "markdown",
   "metadata": {},
   "source": [
    "We can use this function to get our value as a function of $L$ and $l$:"
   ]
  },
  {
   "cell_type": "code",
   "execution_count": 3,
   "metadata": {},
   "outputs": [
    {
     "data": {
      "image/png": "[encoded data removed]",
      "text/latex": [
       "$$2 \\left(L - 4\\right) \\left(l - 4\\right)$$"
      ],
      "text/plain": [
       "2⋅(L - 4)⋅(l - 4)"
      ]
     },
     "execution_count": 3,
     "metadata": {},
     "output_type": "execute_result"
    }
   ],
   "source": [
    "V(x=2)"
   ]
  },
  {
   "cell_type": "markdown",
   "metadata": {},
   "source": [
    "Or we can pass values to all our variables and obtain a given volume:"
   ]
  },
  {
   "cell_type": "code",
   "execution_count": 4,
   "metadata": {},
   "outputs": [
    {
     "data": {
      "image/png": "[encoded data removed]",
      "text/latex": [
       "$$160$$"
      ],
      "text/plain": [
       "160"
      ]
     },
     "execution_count": 4,
     "metadata": {},
     "output_type": "execute_result"
    }
   ],
   "source": [
    "V(2, l=12, L=14)"
   ]
  },
  {
   "cell_type": "markdown",
   "metadata": {},
   "source": [
    "### Exercises\n",
    "\n",
    "- Define the mathematical function $m x ^ 2 - w$"
   ]
  },
  {
   "cell_type": "markdown",
   "metadata": {},
   "source": [
    "## Plotting our function\n",
    "\n",
    "Let us start by looking at the volume as a function of $x$ for the following values of $l=20$ and $L=38$:"
   ]
  },
  {
   "cell_type": "code",
   "execution_count": 5,
   "metadata": {},
   "outputs": [],
   "source": [
    "%matplotlib inline"
   ]
  },
  {
   "cell_type": "code",
   "execution_count": 6,
   "metadata": {
    "tags": [
     "nbval-ignore-output"
    ]
   },
   "outputs": [
    {
     "data": {
      "image/png": "[encoded data removed]",
      "text/plain": [
       "<matplotlib.figure.Figure at 0x7f6d4c6564e0>"
      ]
     },
     "metadata": {},
     "output_type": "display_data"
    }
   ],
   "source": [
    "sym.plot(V(x,l=20, L=38), (x, 0, 10));  # We only consider x < min(l, L) / 2"
   ]
  },
  {
   "cell_type": "markdown",
   "metadata": {},
   "source": [
    "We see that our function has two stationary points (where the graph is flat)."
   ]
  },
  {
   "cell_type": "markdown",
   "metadata": {},
   "source": [
    "### Exercises\n",
    "\n",
    "- Obtain a plot of the function $f(x) = x ^ 2$\n",
    "- Obtain a plot of the function $f(x) = 1 / x$"
   ]
  },
  {
   "cell_type": "markdown",
   "metadata": {},
   "source": [
    "## Finding stationary points\n",
    "\n",
    "These stationary points correspond to places where the derivative of the function is 0:\n",
    "\n",
    "$$\n",
    "\\frac{dV}{dx}=0\n",
    "$$\n",
    "\n",
    "Let us find the $\\frac{dV}{dx}$ using `sympy`:"
   ]
  },
  {
   "cell_type": "code",
   "execution_count": 7,
   "metadata": {},
   "outputs": [
    {
     "data": {
      "image/png": "[encoded data removed]",
      "text/latex": [
       "$$- 2 x \\left(L - 2 x\\right) - 2 x \\left(l - 2 x\\right) + \\left(L - 2 x\\right) \\left(l - 2 x\\right)$$"
      ],
      "text/plain": [
       "-2⋅x⋅(L - 2⋅x) - 2⋅x⋅(l - 2⋅x) + (L - 2⋅x)⋅(l - 2⋅x)"
      ]
     },
     "execution_count": 7,
     "metadata": {},
     "output_type": "execute_result"
    }
   ],
   "source": [
    "first_derivative = V().diff(x)\n",
    "first_derivative"
   ]
  },
  {
   "cell_type": "markdown",
   "metadata": {},
   "source": [
    "Let us simplify our output:"
   ]
  },
  {
   "cell_type": "code",
   "execution_count": 8,
   "metadata": {},
   "outputs": [
    {
     "data": {
      "image/png": "[encoded data removed]",
      "text/latex": [
       "$$L l - 4 L x - 4 l x + 12 x^{2}$$"
      ],
      "text/plain": [
       "                          2\n",
       "L⋅l - 4⋅L⋅x - 4⋅l⋅x + 12⋅x "
      ]
     },
     "execution_count": 8,
     "metadata": {},
     "output_type": "execute_result"
    }
   ],
   "source": [
    "first_derivative = first_derivative.simplify()\n",
    "first_derivative"
   ]
  },
  {
   "cell_type": "markdown",
   "metadata": {},
   "source": [
    "Now to find the solutions to the equation: \n",
    "\n",
    "$$\\frac{dV}{dx}=0$$"
   ]
  },
  {
   "cell_type": "code",
   "execution_count": 9,
   "metadata": {},
   "outputs": [
    {
     "data": {
      "image/png": "[encoded data removed]",
      "text/latex": [
       "$$\\left\\{\\frac{L}{6} + \\frac{l}{6} - \\frac{1}{6} \\sqrt{L^{2} - L l + l^{2}}, \\frac{L}{6} + \\frac{l}{6} + \\frac{1}{6} \\sqrt{L^{2} - L l + l^{2}}\\right\\}$$"
      ],
      "text/plain": [
       "⎧           _______________             _______________⎫\n",
       "⎪          ╱  2          2             ╱  2          2 ⎪\n",
       "⎨L   l   ╲╱  L  - L⋅l + l    L   l   ╲╱  L  - L⋅l + l  ⎬\n",
       "⎪─ + ─ - ──────────────────, ─ + ─ + ──────────────────⎪\n",
       "⎩6   6           6           6   6           6         ⎭"
      ]
     },
     "execution_count": 9,
     "metadata": {},
     "output_type": "execute_result"
    }
   ],
   "source": [
    "stationary_points = sym.solveset(first_derivative, x)\n",
    "stationary_points"
   ]
  },
  {
   "cell_type": "markdown",
   "metadata": {},
   "source": [
    "### Exercises\n",
    "\n",
    "- Find the stationary points of $f(x)=x^2$\n",
    "- Find the stationary points of $f(x)=mx^2-w$"
   ]
  },
  {
   "cell_type": "markdown",
   "metadata": {},
   "source": [
    "## Qualifying stationary points\n",
    "\n",
    "As we can see in our graph, one of our stationary points is a maximum and the other a minumum. These can be quantified by looking at the second derivative:\n",
    "\n",
    "- If the second derivative at a stationary point is **positive** then the stationary point is a **local minima**;\n",
    "- If the second derivative at a stationary point is **negative** then the stationary point is a **local maxima**.\n",
    "\n",
    "Let us compute the second derivative using `sympy`:"
   ]
  },
  {
   "cell_type": "code",
   "execution_count": 10,
   "metadata": {},
   "outputs": [
    {
     "data": {
      "image/png": "[encoded data removed]",
      "text/latex": [
       "$$4 \\left(- L - l + 6 x\\right)$$"
      ],
      "text/plain": [
       "4⋅(-L - l + 6⋅x)"
      ]
     },
     "execution_count": 10,
     "metadata": {},
     "output_type": "execute_result"
    }
   ],
   "source": [
    "second_derivative = V().diff(x, 2)\n",
    "second_derivative"
   ]
  },
  {
   "cell_type": "code",
   "execution_count": 11,
   "metadata": {},
   "outputs": [
    {
     "data": {
      "image/png": "[encoded data removed]",
      "text/latex": [
       "$$\\left\\{\\frac{L}{6} + \\frac{l}{6} - \\frac{1}{6} \\sqrt{L^{2} - L l + l^{2}}, \\frac{L}{6} + \\frac{l}{6} + \\frac{1}{6} \\sqrt{L^{2} - L l + l^{2}}\\right\\}$$"
      ],
      "text/plain": [
       "⎧           _______________             _______________⎫\n",
       "⎪          ╱  2          2             ╱  2          2 ⎪\n",
       "⎨L   l   ╲╱  L  - L⋅l + l    L   l   ╲╱  L  - L⋅l + l  ⎬\n",
       "⎪─ + ─ - ──────────────────, ─ + ─ + ──────────────────⎪\n",
       "⎩6   6           6           6   6           6         ⎭"
      ]
     },
     "execution_count": 11,
     "metadata": {},
     "output_type": "execute_result"
    }
   ],
   "source": [
    "stationary_points"
   ]
  },
  {
   "cell_type": "code",
   "execution_count": 12,
   "metadata": {},
   "outputs": [
    {
     "data": {
      "image/png": "[encoded data removed]",
      "text/latex": [
       "$$\\left [ \\left ( \\frac{L}{6} + \\frac{l}{6} - \\frac{1}{6} \\sqrt{L^{2} - L l + l^{2}}, \\quad - 4 \\sqrt{L^{2} - L l + l^{2}}\\right ), \\quad \\left ( \\frac{L}{6} + \\frac{l}{6} + \\frac{1}{6} \\sqrt{L^{2} - L l + l^{2}}, \\quad 4 \\sqrt{L^{2} - L l + l^{2}}\\right )\\right ]$$"
      ],
      "text/plain": [
       "⎡⎛           _______________                       ⎞  ⎛           ____________\n",
       "⎢⎜          ╱  2          2         _______________⎟  ⎜          ╱  2         \n",
       "⎢⎜L   l   ╲╱  L  - L⋅l + l         ╱  2          2 ⎟  ⎜L   l   ╲╱  L  - L⋅l + \n",
       "⎢⎜─ + ─ - ──────────────────, -4⋅╲╱  L  - L⋅l + l  ⎟, ⎜─ + ─ + ───────────────\n",
       "⎣⎝6   6           6                                ⎠  ⎝6   6           6      \n",
       "\n",
       "___                      ⎞⎤\n",
       " 2        _______________⎟⎥\n",
       "l        ╱  2          2 ⎟⎥\n",
       "───, 4⋅╲╱  L  - L⋅l + l  ⎟⎥\n",
       "                         ⎠⎦"
      ]
     },
     "execution_count": 12,
     "metadata": {},
     "output_type": "execute_result"
    }
   ],
   "source": [
    "second_derivative_values = [(sol, second_derivative.subs({x: sol})) for sol in stationary_points]\n",
    "second_derivative_values"
   ]
  },
  {
   "cell_type": "markdown",
   "metadata": {},
   "source": [
    "We can see that the first solution gives a negative second derivative thus it's a **local** maximum (as we saw in our plot)."
   ]
  },
  {
   "cell_type": "code",
   "execution_count": 13,
   "metadata": {},
   "outputs": [
    {
     "data": {
      "image/png": "[encoded data removed]",
      "text/latex": [
       "$$\\frac{L}{6} + \\frac{l}{6} - \\frac{1}{6} \\sqrt{L^{2} - L l + l^{2}}$$"
      ],
      "text/plain": [
       "           _______________\n",
       "          ╱  2          2 \n",
       "L   l   ╲╱  L  - L⋅l + l  \n",
       "─ + ─ - ──────────────────\n",
       "6   6           6         "
      ]
     },
     "execution_count": 13,
     "metadata": {},
     "output_type": "execute_result"
    }
   ],
   "source": [
    "optimal_x = second_derivative_values[0][0]\n",
    "optimal_x"
   ]
  },
  {
   "cell_type": "markdown",
   "metadata": {},
   "source": [
    "We can compute the actual value for the running example:"
   ]
  },
  {
   "cell_type": "code",
   "execution_count": 14,
   "metadata": {},
   "outputs": [
    {
     "data": {
      "image/png": "[encoded data removed]",
      "text/latex": [
       "$$\\left ( 4.179307455615224, \\quad 1442.1401595806883\\right )$$"
      ],
      "text/plain": [
       "(4.179307455615224, 1442.1401595806883)"
      ]
     },
     "execution_count": 14,
     "metadata": {},
     "output_type": "execute_result"
    }
   ],
   "source": [
    "particular_values = {\"l\": 20, \"L\": 38}\n",
    "particular_optimal_x = optimal_x.subs(particular_values)\n",
    "float(particular_optimal_x), float(V(particular_optimal_x, **particular_values))"
   ]
  },
  {
   "cell_type": "markdown",
   "metadata": {},
   "source": [
    "### Exercises\n",
    "\n",
    "- Qualify the stationary points of $f(x)=x^2$\n",
    "- Qualify the stationary points of $f(x)=mx^2-w$"
   ]
  }
 ],
 "metadata": {
  "anaconda-cloud": {},
  "celltoolbar": "Tags",
  "kernelspec": {
   "display_name": "Python [conda env:mwp]",
   "language": "python",
   "name": "conda-env-mwp-py"
  },
  "language_info": {
   "codemirror_mode": {
    "name": "ipython",
    "version": 3
   },
   "file_extension": ".py",
   "mimetype": "text/x-python",
   "name": "python",
   "nbconvert_exporter": "python",
   "pygments_lexer": "ipython3",
   "version": "3.6.4"
  }
 },
 "nbformat": 4,
 "nbformat_minor": 2
}
